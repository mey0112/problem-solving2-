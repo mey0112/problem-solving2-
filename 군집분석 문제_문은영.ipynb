{
 "cells": [
  {
   "cell_type": "code",
   "execution_count": 1,
   "id": "41d03ab1",
   "metadata": {},
   "outputs": [],
   "source": [
    "import pandas as pd\n",
    "from sklearn.preprocessing import StandardScaler, MinMaxScaler\n",
    "from sklearn.cluster import KMeans\n",
    "from sklearn.metrics import silhouette_samples, silhouette_score\n",
    "import numpy as np"
   ]
  },
  {
   "cell_type": "code",
   "execution_count": 2,
   "id": "84b74a4c",
   "metadata": {},
   "outputs": [
    {
     "name": "stdout",
     "output_type": "stream",
     "text": [
      "Requirement already satisfied: yellowbrick in c:\\users\\pc\\anaconda3\\lib\\site-packages (1.5)\n",
      "Requirement already satisfied: cycler>=0.10.0 in c:\\users\\pc\\anaconda3\\lib\\site-packages (from yellowbrick) (0.11.0)\n",
      "Requirement already satisfied: scipy>=1.0.0 in c:\\users\\pc\\anaconda3\\lib\\site-packages (from yellowbrick) (1.10.0)\n",
      "Requirement already satisfied: scikit-learn>=1.0.0 in c:\\users\\pc\\anaconda3\\lib\\site-packages (from yellowbrick) (1.2.1)\n",
      "Requirement already satisfied: numpy>=1.16.0 in c:\\users\\pc\\anaconda3\\lib\\site-packages (from yellowbrick) (1.23.5)\n",
      "Requirement already satisfied: matplotlib!=3.0.0,>=2.0.2 in c:\\users\\pc\\anaconda3\\lib\\site-packages (from yellowbrick) (3.7.0)\n",
      "Requirement already satisfied: packaging>=20.0 in c:\\users\\pc\\anaconda3\\lib\\site-packages (from matplotlib!=3.0.0,>=2.0.2->yellowbrick) (22.0)\n",
      "Requirement already satisfied: python-dateutil>=2.7 in c:\\users\\pc\\anaconda3\\lib\\site-packages (from matplotlib!=3.0.0,>=2.0.2->yellowbrick) (2.8.2)\n",
      "Requirement already satisfied: fonttools>=4.22.0 in c:\\users\\pc\\anaconda3\\lib\\site-packages (from matplotlib!=3.0.0,>=2.0.2->yellowbrick) (4.25.0)\n",
      "Requirement already satisfied: pillow>=6.2.0 in c:\\users\\pc\\anaconda3\\lib\\site-packages (from matplotlib!=3.0.0,>=2.0.2->yellowbrick) (9.4.0)\n",
      "Requirement already satisfied: kiwisolver>=1.0.1 in c:\\users\\pc\\anaconda3\\lib\\site-packages (from matplotlib!=3.0.0,>=2.0.2->yellowbrick) (1.4.4)\n",
      "Requirement already satisfied: pyparsing>=2.3.1 in c:\\users\\pc\\anaconda3\\lib\\site-packages (from matplotlib!=3.0.0,>=2.0.2->yellowbrick) (3.0.9)\n",
      "Requirement already satisfied: contourpy>=1.0.1 in c:\\users\\pc\\anaconda3\\lib\\site-packages (from matplotlib!=3.0.0,>=2.0.2->yellowbrick) (1.0.5)\n",
      "Requirement already satisfied: threadpoolctl>=2.0.0 in c:\\users\\pc\\anaconda3\\lib\\site-packages (from scikit-learn>=1.0.0->yellowbrick) (2.2.0)\n",
      "Requirement already satisfied: joblib>=1.1.1 in c:\\users\\pc\\anaconda3\\lib\\site-packages (from scikit-learn>=1.0.0->yellowbrick) (1.1.1)\n",
      "Requirement already satisfied: six>=1.5 in c:\\users\\pc\\anaconda3\\lib\\site-packages (from python-dateutil>=2.7->matplotlib!=3.0.0,>=2.0.2->yellowbrick) (1.16.0)\n"
     ]
    }
   ],
   "source": [
    "# 실루엣 계수 시각화를 위해 yellowbrick 라이브러리 설치\n",
    "!pip install yellowbrick"
   ]
  },
  {
   "cell_type": "code",
   "execution_count": 3,
   "id": "f66f3b15",
   "metadata": {},
   "outputs": [],
   "source": [
    "from yellowbrick.cluster import SilhouetteVisualizer"
   ]
  },
  {
   "cell_type": "markdown",
   "id": "b4fe1fe5",
   "metadata": {},
   "source": [
    "## 데이터불러오기"
   ]
  },
  {
   "cell_type": "code",
   "execution_count": 4,
   "id": "fea7e8be",
   "metadata": {},
   "outputs": [],
   "source": [
    "df = pd.read_csv(\"./data/hack_data.csv\")"
   ]
  },
  {
   "cell_type": "markdown",
   "id": "381192ec",
   "metadata": {},
   "source": [
    "## 데이터확인"
   ]
  },
  {
   "cell_type": "code",
   "execution_count": 5,
   "id": "9993e1a2",
   "metadata": {},
   "outputs": [
    {
     "data": {
      "text/plain": [
       "pandas.core.frame.DataFrame"
      ]
     },
     "execution_count": 5,
     "metadata": {},
     "output_type": "execute_result"
    }
   ],
   "source": [
    "type(df)"
   ]
  },
  {
   "cell_type": "code",
   "execution_count": 6,
   "id": "43a377f5",
   "metadata": {},
   "outputs": [
    {
     "data": {
      "text/html": [
       "<div>\n",
       "<style scoped>\n",
       "    .dataframe tbody tr th:only-of-type {\n",
       "        vertical-align: middle;\n",
       "    }\n",
       "\n",
       "    .dataframe tbody tr th {\n",
       "        vertical-align: top;\n",
       "    }\n",
       "\n",
       "    .dataframe thead th {\n",
       "        text-align: right;\n",
       "    }\n",
       "</style>\n",
       "<table border=\"1\" class=\"dataframe\">\n",
       "  <thead>\n",
       "    <tr style=\"text-align: right;\">\n",
       "      <th></th>\n",
       "      <th>Session_Connection_Time</th>\n",
       "      <th>Bytes Transferred</th>\n",
       "      <th>Kali_Trace_Used</th>\n",
       "      <th>Servers_Corrupted</th>\n",
       "      <th>Pages_Corrupted</th>\n",
       "      <th>Location</th>\n",
       "      <th>WPM_Typing_Speed</th>\n",
       "    </tr>\n",
       "  </thead>\n",
       "  <tbody>\n",
       "    <tr>\n",
       "      <th>0</th>\n",
       "      <td>8.0</td>\n",
       "      <td>391.09</td>\n",
       "      <td>1</td>\n",
       "      <td>2.96</td>\n",
       "      <td>7.0</td>\n",
       "      <td>Slovenia</td>\n",
       "      <td>72.37</td>\n",
       "    </tr>\n",
       "    <tr>\n",
       "      <th>1</th>\n",
       "      <td>20.0</td>\n",
       "      <td>720.99</td>\n",
       "      <td>0</td>\n",
       "      <td>3.04</td>\n",
       "      <td>9.0</td>\n",
       "      <td>British Virgin Islands</td>\n",
       "      <td>69.08</td>\n",
       "    </tr>\n",
       "    <tr>\n",
       "      <th>2</th>\n",
       "      <td>31.0</td>\n",
       "      <td>356.32</td>\n",
       "      <td>1</td>\n",
       "      <td>3.71</td>\n",
       "      <td>8.0</td>\n",
       "      <td>Tokelau</td>\n",
       "      <td>70.58</td>\n",
       "    </tr>\n",
       "    <tr>\n",
       "      <th>3</th>\n",
       "      <td>2.0</td>\n",
       "      <td>228.08</td>\n",
       "      <td>1</td>\n",
       "      <td>2.48</td>\n",
       "      <td>8.0</td>\n",
       "      <td>Bolivia</td>\n",
       "      <td>70.80</td>\n",
       "    </tr>\n",
       "    <tr>\n",
       "      <th>4</th>\n",
       "      <td>20.0</td>\n",
       "      <td>408.50</td>\n",
       "      <td>0</td>\n",
       "      <td>3.57</td>\n",
       "      <td>8.0</td>\n",
       "      <td>Iraq</td>\n",
       "      <td>71.28</td>\n",
       "    </tr>\n",
       "  </tbody>\n",
       "</table>\n",
       "</div>"
      ],
      "text/plain": [
       "   Session_Connection_Time  Bytes Transferred  Kali_Trace_Used  \\\n",
       "0                      8.0             391.09                1   \n",
       "1                     20.0             720.99                0   \n",
       "2                     31.0             356.32                1   \n",
       "3                      2.0             228.08                1   \n",
       "4                     20.0             408.50                0   \n",
       "\n",
       "   Servers_Corrupted  Pages_Corrupted                Location  \\\n",
       "0               2.96              7.0                Slovenia   \n",
       "1               3.04              9.0  British Virgin Islands   \n",
       "2               3.71              8.0                 Tokelau   \n",
       "3               2.48              8.0                 Bolivia   \n",
       "4               3.57              8.0                    Iraq   \n",
       "\n",
       "   WPM_Typing_Speed  \n",
       "0             72.37  \n",
       "1             69.08  \n",
       "2             70.58  \n",
       "3             70.80  \n",
       "4             71.28  "
      ]
     },
     "execution_count": 6,
     "metadata": {},
     "output_type": "execute_result"
    }
   ],
   "source": [
    "df.head()"
   ]
  },
  {
   "cell_type": "code",
   "execution_count": 7,
   "id": "3379e615",
   "metadata": {},
   "outputs": [
    {
     "data": {
      "text/plain": [
       "(334, 7)"
      ]
     },
     "execution_count": 7,
     "metadata": {},
     "output_type": "execute_result"
    }
   ],
   "source": [
    "df.shape"
   ]
  },
  {
   "cell_type": "code",
   "execution_count": 8,
   "id": "9670d8ca",
   "metadata": {},
   "outputs": [
    {
     "name": "stdout",
     "output_type": "stream",
     "text": [
      "<class 'pandas.core.frame.DataFrame'>\n",
      "RangeIndex: 334 entries, 0 to 333\n",
      "Data columns (total 7 columns):\n",
      " #   Column                   Non-Null Count  Dtype  \n",
      "---  ------                   --------------  -----  \n",
      " 0   Session_Connection_Time  334 non-null    float64\n",
      " 1   Bytes Transferred        334 non-null    float64\n",
      " 2   Kali_Trace_Used          334 non-null    int64  \n",
      " 3   Servers_Corrupted        334 non-null    float64\n",
      " 4   Pages_Corrupted          334 non-null    float64\n",
      " 5   Location                 334 non-null    object \n",
      " 6   WPM_Typing_Speed         334 non-null    float64\n",
      "dtypes: float64(5), int64(1), object(1)\n",
      "memory usage: 18.4+ KB\n"
     ]
    }
   ],
   "source": [
    "df.info()"
   ]
  },
  {
   "cell_type": "code",
   "execution_count": 9,
   "id": "fde08f2b",
   "metadata": {},
   "outputs": [
    {
     "data": {
      "text/plain": [
       "array(['Slovenia', 'British Virgin Islands', 'Tokelau', 'Bolivia', 'Iraq',\n",
       "       'Marshall Islands', 'Georgia', 'Timor-Leste',\n",
       "       'Palestinian Territory', 'Bangladesh', 'Northern Mariana Islands',\n",
       "       'Zimbabwe', 'Isle of Man', 'Sao Tome and Principe', 'Greece',\n",
       "       'Solomon Islands', 'Guinea-Bissau', 'Burkina Faso', 'Mongolia',\n",
       "       'Nigeria', 'Kazakhstan', 'Faroe Islands', 'Lebanon', 'Guyana',\n",
       "       'Botswana', 'Zambia', 'Mexico', 'Gibraltar', 'Bhutan', 'Mayotte',\n",
       "       'Guernsey', 'Saint Barthelemy', 'Cambodia', 'Tuvalu',\n",
       "       'Philippines', 'Armenia', 'Nicaragua', 'Mauritania', 'Algeria',\n",
       "       'Azerbaijan', 'Sri Lanka', 'Nauru',\n",
       "       'Heard Island and McDonald Islands', 'Christmas Island',\n",
       "       'Holy See (Vatican City State)', 'Haiti', 'Japan',\n",
       "       'Syrian Arab Republic', 'Albania', 'United States Virgin Islands',\n",
       "       'Israel', 'Czech Republic', 'Malaysia', 'Maldives', 'Norway',\n",
       "       'South Africa', 'Afghanistan', 'Australia',\n",
       "       'Saint Kitts and Nevis', 'Jamaica', 'Tajikistan', 'Moldova',\n",
       "       'Equatorial Guinea', 'Turkey', 'Congo', 'Brunei Darussalam',\n",
       "       'South Georgia and the South Sandwich Islands', 'Iran',\n",
       "       'Saudi Arabia', 'Netherlands Antilles',\n",
       "       'Bouvet Island (Bouvetoya)', 'Netherlands', 'Belarus', 'Cyprus',\n",
       "       'Yemen', 'Uzbekistan', 'Ecuador', 'Romania', 'Montenegro', 'Niue',\n",
       "       'Saint Pierre and Miquelon', 'Saint Vincent and the Grenadines',\n",
       "       'Kyrgyz Republic', 'New Zealand', 'Central African Republic',\n",
       "       'Belize', 'Seychelles', 'United States Minor Outlying Islands',\n",
       "       'Dominican Republic', 'Portugal', 'Trinidad and Tobago',\n",
       "       'Western Sahara', 'Grenada', 'Saint Lucia', 'Ethiopia', 'Sweden',\n",
       "       'Uruguay', 'Tanzania', 'Serbia', 'Ukraine',\n",
       "       'Turks and Caicos Islands', 'Slovakia (Slovak Republic)',\n",
       "       'Switzerland', 'Antigua and Barbuda', 'China', 'New Caledonia',\n",
       "       'Luxembourg', 'Malawi', 'Hungary', 'Benin', 'Bahamas', 'Samoa',\n",
       "       'Kuwait', 'Austria', 'Turkmenistan', 'Denmark', 'Kenya',\n",
       "       'Wallis and Futuna', 'Reunion', 'Cook Islands', 'Morocco',\n",
       "       \"Lao People's Democratic Republic\", 'Sudan', 'Thailand',\n",
       "       'Liechtenstein', 'Russian Federation', 'Macedonia',\n",
       "       'Svalbard & Jan Mayen Islands', 'Anguilla',\n",
       "       'French Southern Territories', 'Hong Kong', 'Saint Helena',\n",
       "       'Montserrat', 'Costa Rica', 'Micronesia', 'Tunisia',\n",
       "       'Libyan Arab Jamahiriya', 'Cameroon', 'Bulgaria', 'India',\n",
       "       'Estonia', 'Comoros', 'Lithuania', 'Venezuela', 'Saint Martin',\n",
       "       'Indonesia', 'Cocos (Keeling) Islands', 'Gabon', 'Martinique',\n",
       "       'Jordan', 'Madagascar', 'Falkland Islands (Malvinas)',\n",
       "       'United Kingdom', 'Korea', 'Kiribati', 'United Arab Emirates',\n",
       "       'Oman', 'Singapore', 'Taiwan', 'Egypt', 'Macao', 'Cape Verde',\n",
       "       'British Indian Ocean Territory (Chagos Archipelago)', 'Togo',\n",
       "       'French Polynesia', 'Cuba', 'Pitcairn Islands', 'Burundi', 'Palau',\n",
       "       'Papua New Guinea', 'Rwanda', 'Niger', 'Colombia', 'Latvia',\n",
       "       'Andorra', 'Antarctica (the territory South of 60 deg S)',\n",
       "       'Paraguay', 'Myanmar', 'Belgium', 'Germany', 'Canada'],\n",
       "      dtype=object)"
      ]
     },
     "execution_count": 9,
     "metadata": {},
     "output_type": "execute_result"
    }
   ],
   "source": [
    "# 결측치 없음\n",
    "# 문자형 데이터확인\n",
    "df[\"Location\"].unique()"
   ]
  },
  {
   "cell_type": "code",
   "execution_count": 10,
   "id": "1781ecc5",
   "metadata": {},
   "outputs": [
    {
     "data": {
      "text/plain": [
       "United States Virgin Islands    6\n",
       "Guinea-Bissau                   5\n",
       "Czech Republic                  5\n",
       "Mauritania                      5\n",
       "Trinidad and Tobago             4\n",
       "                               ..\n",
       "Austria                         1\n",
       "Kuwait                          1\n",
       "Samoa                           1\n",
       "Mexico                          1\n",
       "Canada                          1\n",
       "Name: Location, Length: 181, dtype: int64"
      ]
     },
     "execution_count": 10,
     "metadata": {},
     "output_type": "execute_result"
    }
   ],
   "source": [
    "df[\"Location\"].value_counts()"
   ]
  },
  {
   "cell_type": "code",
   "execution_count": 11,
   "id": "54cb62f7",
   "metadata": {},
   "outputs": [],
   "source": [
    "# 무의미하다고 판단되므로 삭제\n",
    "df_1 = df.drop([\"Location\"],axis=1)"
   ]
  },
  {
   "cell_type": "code",
   "execution_count": 12,
   "id": "49f3648e",
   "metadata": {},
   "outputs": [
    {
     "data": {
      "text/html": [
       "<div>\n",
       "<style scoped>\n",
       "    .dataframe tbody tr th:only-of-type {\n",
       "        vertical-align: middle;\n",
       "    }\n",
       "\n",
       "    .dataframe tbody tr th {\n",
       "        vertical-align: top;\n",
       "    }\n",
       "\n",
       "    .dataframe thead th {\n",
       "        text-align: right;\n",
       "    }\n",
       "</style>\n",
       "<table border=\"1\" class=\"dataframe\">\n",
       "  <thead>\n",
       "    <tr style=\"text-align: right;\">\n",
       "      <th></th>\n",
       "      <th>Session_Connection_Time</th>\n",
       "      <th>Bytes Transferred</th>\n",
       "      <th>Kali_Trace_Used</th>\n",
       "      <th>Servers_Corrupted</th>\n",
       "      <th>Pages_Corrupted</th>\n",
       "      <th>WPM_Typing_Speed</th>\n",
       "    </tr>\n",
       "  </thead>\n",
       "  <tbody>\n",
       "    <tr>\n",
       "      <th>0</th>\n",
       "      <td>8.0</td>\n",
       "      <td>391.09</td>\n",
       "      <td>1</td>\n",
       "      <td>2.96</td>\n",
       "      <td>7.0</td>\n",
       "      <td>72.37</td>\n",
       "    </tr>\n",
       "    <tr>\n",
       "      <th>1</th>\n",
       "      <td>20.0</td>\n",
       "      <td>720.99</td>\n",
       "      <td>0</td>\n",
       "      <td>3.04</td>\n",
       "      <td>9.0</td>\n",
       "      <td>69.08</td>\n",
       "    </tr>\n",
       "    <tr>\n",
       "      <th>2</th>\n",
       "      <td>31.0</td>\n",
       "      <td>356.32</td>\n",
       "      <td>1</td>\n",
       "      <td>3.71</td>\n",
       "      <td>8.0</td>\n",
       "      <td>70.58</td>\n",
       "    </tr>\n",
       "    <tr>\n",
       "      <th>3</th>\n",
       "      <td>2.0</td>\n",
       "      <td>228.08</td>\n",
       "      <td>1</td>\n",
       "      <td>2.48</td>\n",
       "      <td>8.0</td>\n",
       "      <td>70.80</td>\n",
       "    </tr>\n",
       "    <tr>\n",
       "      <th>4</th>\n",
       "      <td>20.0</td>\n",
       "      <td>408.50</td>\n",
       "      <td>0</td>\n",
       "      <td>3.57</td>\n",
       "      <td>8.0</td>\n",
       "      <td>71.28</td>\n",
       "    </tr>\n",
       "  </tbody>\n",
       "</table>\n",
       "</div>"
      ],
      "text/plain": [
       "   Session_Connection_Time  Bytes Transferred  Kali_Trace_Used  \\\n",
       "0                      8.0             391.09                1   \n",
       "1                     20.0             720.99                0   \n",
       "2                     31.0             356.32                1   \n",
       "3                      2.0             228.08                1   \n",
       "4                     20.0             408.50                0   \n",
       "\n",
       "   Servers_Corrupted  Pages_Corrupted  WPM_Typing_Speed  \n",
       "0               2.96              7.0             72.37  \n",
       "1               3.04              9.0             69.08  \n",
       "2               3.71              8.0             70.58  \n",
       "3               2.48              8.0             70.80  \n",
       "4               3.57              8.0             71.28  "
      ]
     },
     "execution_count": 12,
     "metadata": {},
     "output_type": "execute_result"
    }
   ],
   "source": [
    "df_1.head()"
   ]
  },
  {
   "cell_type": "code",
   "execution_count": 13,
   "id": "090e4189",
   "metadata": {},
   "outputs": [
    {
     "name": "stdout",
     "output_type": "stream",
     "text": [
      "<class 'pandas.core.frame.DataFrame'>\n",
      "RangeIndex: 334 entries, 0 to 333\n",
      "Data columns (total 6 columns):\n",
      " #   Column                   Non-Null Count  Dtype  \n",
      "---  ------                   --------------  -----  \n",
      " 0   Session_Connection_Time  334 non-null    float64\n",
      " 1   Bytes Transferred        334 non-null    float64\n",
      " 2   Kali_Trace_Used          334 non-null    int64  \n",
      " 3   Servers_Corrupted        334 non-null    float64\n",
      " 4   Pages_Corrupted          334 non-null    float64\n",
      " 5   WPM_Typing_Speed         334 non-null    float64\n",
      "dtypes: float64(5), int64(1)\n",
      "memory usage: 15.8 KB\n"
     ]
    }
   ],
   "source": [
    "df_1.info()"
   ]
  },
  {
   "cell_type": "markdown",
   "id": "51112111",
   "metadata": {},
   "source": [
    "## 데이터 전처리\n",
    "    - StandardScaler"
   ]
  },
  {
   "cell_type": "code",
   "execution_count": 14,
   "id": "bb4f742e",
   "metadata": {},
   "outputs": [],
   "source": [
    "# StandardScaler\n",
    "S_scaler = StandardScaler()\n",
    "s_df = pd.DataFrame(S_scaler.fit_transform(df_1), columns = df_1.columns)"
   ]
  },
  {
   "cell_type": "code",
   "execution_count": 15,
   "id": "6632c58d",
   "metadata": {},
   "outputs": [
    {
     "data": {
      "text/html": [
       "<div>\n",
       "<style scoped>\n",
       "    .dataframe tbody tr th:only-of-type {\n",
       "        vertical-align: middle;\n",
       "    }\n",
       "\n",
       "    .dataframe tbody tr th {\n",
       "        vertical-align: top;\n",
       "    }\n",
       "\n",
       "    .dataframe thead th {\n",
       "        text-align: right;\n",
       "    }\n",
       "</style>\n",
       "<table border=\"1\" class=\"dataframe\">\n",
       "  <thead>\n",
       "    <tr style=\"text-align: right;\">\n",
       "      <th></th>\n",
       "      <th>Session_Connection_Time</th>\n",
       "      <th>Bytes Transferred</th>\n",
       "      <th>Kali_Trace_Used</th>\n",
       "      <th>Servers_Corrupted</th>\n",
       "      <th>Pages_Corrupted</th>\n",
       "      <th>WPM_Typing_Speed</th>\n",
       "    </tr>\n",
       "  </thead>\n",
       "  <tbody>\n",
       "    <tr>\n",
       "      <th>0</th>\n",
       "      <td>-1.564572</td>\n",
       "      <td>-0.756034</td>\n",
       "      <td>0.976328</td>\n",
       "      <td>-1.000019</td>\n",
       "      <td>-1.254790</td>\n",
       "      <td>1.122219</td>\n",
       "    </tr>\n",
       "    <tr>\n",
       "      <th>1</th>\n",
       "      <td>-0.711517</td>\n",
       "      <td>0.397838</td>\n",
       "      <td>-1.024246</td>\n",
       "      <td>-0.965213</td>\n",
       "      <td>-0.600968</td>\n",
       "      <td>0.876531</td>\n",
       "    </tr>\n",
       "    <tr>\n",
       "      <th>2</th>\n",
       "      <td>0.070449</td>\n",
       "      <td>-0.877647</td>\n",
       "      <td>0.976328</td>\n",
       "      <td>-0.673714</td>\n",
       "      <td>-0.927879</td>\n",
       "      <td>0.988547</td>\n",
       "    </tr>\n",
       "    <tr>\n",
       "      <th>3</th>\n",
       "      <td>-1.991099</td>\n",
       "      <td>-1.326184</td>\n",
       "      <td>0.976328</td>\n",
       "      <td>-1.208855</td>\n",
       "      <td>-0.927879</td>\n",
       "      <td>1.004976</td>\n",
       "    </tr>\n",
       "    <tr>\n",
       "      <th>4</th>\n",
       "      <td>-0.711517</td>\n",
       "      <td>-0.695140</td>\n",
       "      <td>-1.024246</td>\n",
       "      <td>-0.734624</td>\n",
       "      <td>-0.927879</td>\n",
       "      <td>1.040821</td>\n",
       "    </tr>\n",
       "  </tbody>\n",
       "</table>\n",
       "</div>"
      ],
      "text/plain": [
       "   Session_Connection_Time  Bytes Transferred  Kali_Trace_Used  \\\n",
       "0                -1.564572          -0.756034         0.976328   \n",
       "1                -0.711517           0.397838        -1.024246   \n",
       "2                 0.070449          -0.877647         0.976328   \n",
       "3                -1.991099          -1.326184         0.976328   \n",
       "4                -0.711517          -0.695140        -1.024246   \n",
       "\n",
       "   Servers_Corrupted  Pages_Corrupted  WPM_Typing_Speed  \n",
       "0          -1.000019        -1.254790          1.122219  \n",
       "1          -0.965213        -0.600968          0.876531  \n",
       "2          -0.673714        -0.927879          0.988547  \n",
       "3          -1.208855        -0.927879          1.004976  \n",
       "4          -0.734624        -0.927879          1.040821  "
      ]
     },
     "execution_count": 15,
     "metadata": {},
     "output_type": "execute_result"
    }
   ],
   "source": [
    "s_df.head()"
   ]
  },
  {
   "cell_type": "markdown",
   "id": "fc5cb865",
   "metadata": {},
   "source": [
    "## 군집분석\n",
    "1. 군집이 2개인 경우의 실루엣계수 확인\n",
    "2. 군집이 3개인 경우의 실루엣계수 확인"
   ]
  },
  {
   "cell_type": "markdown",
   "id": "8e75ff1f",
   "metadata": {},
   "source": [
    "### 1. 군집 2개"
   ]
  },
  {
   "cell_type": "code",
   "execution_count": 18,
   "id": "03d2e9fa",
   "metadata": {
    "scrolled": true
   },
   "outputs": [
    {
     "name": "stderr",
     "output_type": "stream",
     "text": [
      "C:\\Users\\PC\\anaconda3\\lib\\site-packages\\sklearn\\cluster\\_kmeans.py:870: FutureWarning: The default value of `n_init` will change from 10 to 'auto' in 1.4. Set the value of `n_init` explicitly to suppress the warning\n",
      "  warnings.warn(\n",
      "C:\\Users\\PC\\anaconda3\\lib\\site-packages\\sklearn\\cluster\\_kmeans.py:1382: UserWarning: KMeans is known to have a memory leak on Windows with MKL, when there are less chunks than available threads. You can avoid it by setting the environment variable OMP_NUM_THREADS=2.\n",
      "  warnings.warn(\n"
     ]
    },
    {
     "data": {
      "text/html": [
       "<style>#sk-container-id-1 {color: black;background-color: white;}#sk-container-id-1 pre{padding: 0;}#sk-container-id-1 div.sk-toggleable {background-color: white;}#sk-container-id-1 label.sk-toggleable__label {cursor: pointer;display: block;width: 100%;margin-bottom: 0;padding: 0.3em;box-sizing: border-box;text-align: center;}#sk-container-id-1 label.sk-toggleable__label-arrow:before {content: \"▸\";float: left;margin-right: 0.25em;color: #696969;}#sk-container-id-1 label.sk-toggleable__label-arrow:hover:before {color: black;}#sk-container-id-1 div.sk-estimator:hover label.sk-toggleable__label-arrow:before {color: black;}#sk-container-id-1 div.sk-toggleable__content {max-height: 0;max-width: 0;overflow: hidden;text-align: left;background-color: #f0f8ff;}#sk-container-id-1 div.sk-toggleable__content pre {margin: 0.2em;color: black;border-radius: 0.25em;background-color: #f0f8ff;}#sk-container-id-1 input.sk-toggleable__control:checked~div.sk-toggleable__content {max-height: 200px;max-width: 100%;overflow: auto;}#sk-container-id-1 input.sk-toggleable__control:checked~label.sk-toggleable__label-arrow:before {content: \"▾\";}#sk-container-id-1 div.sk-estimator input.sk-toggleable__control:checked~label.sk-toggleable__label {background-color: #d4ebff;}#sk-container-id-1 div.sk-label input.sk-toggleable__control:checked~label.sk-toggleable__label {background-color: #d4ebff;}#sk-container-id-1 input.sk-hidden--visually {border: 0;clip: rect(1px 1px 1px 1px);clip: rect(1px, 1px, 1px, 1px);height: 1px;margin: -1px;overflow: hidden;padding: 0;position: absolute;width: 1px;}#sk-container-id-1 div.sk-estimator {font-family: monospace;background-color: #f0f8ff;border: 1px dotted black;border-radius: 0.25em;box-sizing: border-box;margin-bottom: 0.5em;}#sk-container-id-1 div.sk-estimator:hover {background-color: #d4ebff;}#sk-container-id-1 div.sk-parallel-item::after {content: \"\";width: 100%;border-bottom: 1px solid gray;flex-grow: 1;}#sk-container-id-1 div.sk-label:hover label.sk-toggleable__label {background-color: #d4ebff;}#sk-container-id-1 div.sk-serial::before {content: \"\";position: absolute;border-left: 1px solid gray;box-sizing: border-box;top: 0;bottom: 0;left: 50%;z-index: 0;}#sk-container-id-1 div.sk-serial {display: flex;flex-direction: column;align-items: center;background-color: white;padding-right: 0.2em;padding-left: 0.2em;position: relative;}#sk-container-id-1 div.sk-item {position: relative;z-index: 1;}#sk-container-id-1 div.sk-parallel {display: flex;align-items: stretch;justify-content: center;background-color: white;position: relative;}#sk-container-id-1 div.sk-item::before, #sk-container-id-1 div.sk-parallel-item::before {content: \"\";position: absolute;border-left: 1px solid gray;box-sizing: border-box;top: 0;bottom: 0;left: 50%;z-index: -1;}#sk-container-id-1 div.sk-parallel-item {display: flex;flex-direction: column;z-index: 1;position: relative;background-color: white;}#sk-container-id-1 div.sk-parallel-item:first-child::after {align-self: flex-end;width: 50%;}#sk-container-id-1 div.sk-parallel-item:last-child::after {align-self: flex-start;width: 50%;}#sk-container-id-1 div.sk-parallel-item:only-child::after {width: 0;}#sk-container-id-1 div.sk-dashed-wrapped {border: 1px dashed gray;margin: 0 0.4em 0.5em 0.4em;box-sizing: border-box;padding-bottom: 0.4em;background-color: white;}#sk-container-id-1 div.sk-label label {font-family: monospace;font-weight: bold;display: inline-block;line-height: 1.2em;}#sk-container-id-1 div.sk-label-container {text-align: center;}#sk-container-id-1 div.sk-container {/* jupyter's `normalize.less` sets `[hidden] { display: none; }` but bootstrap.min.css set `[hidden] { display: none !important; }` so we also need the `!important` here to be able to override the default hidden behavior on the sphinx rendered scikit-learn.org. See: https://github.com/scikit-learn/scikit-learn/issues/21755 */display: inline-block !important;position: relative;}#sk-container-id-1 div.sk-text-repr-fallback {display: none;}</style><div id=\"sk-container-id-1\" class=\"sk-top-container\"><div class=\"sk-text-repr-fallback\"><pre>KMeans(n_clusters=2, random_state=0)</pre><b>In a Jupyter environment, please rerun this cell to show the HTML representation or trust the notebook. <br />On GitHub, the HTML representation is unable to render, please try loading this page with nbviewer.org.</b></div><div class=\"sk-container\" hidden><div class=\"sk-item\"><div class=\"sk-estimator sk-toggleable\"><input class=\"sk-toggleable__control sk-hidden--visually\" id=\"sk-estimator-id-1\" type=\"checkbox\" checked><label for=\"sk-estimator-id-1\" class=\"sk-toggleable__label sk-toggleable__label-arrow\">KMeans</label><div class=\"sk-toggleable__content\"><pre>KMeans(n_clusters=2, random_state=0)</pre></div></div></div></div></div>"
      ],
      "text/plain": [
       "KMeans(n_clusters=2, random_state=0)"
      ]
     },
     "execution_count": 18,
     "metadata": {},
     "output_type": "execute_result"
    }
   ],
   "source": [
    "# KMeans\n",
    "Skmeans2 = KMeans(n_clusters = 2 , init = \"k-means++\", max_iter=300, random_state=0)\n",
    "Skmeans2.fit(s_df)"
   ]
  },
  {
   "cell_type": "code",
   "execution_count": 19,
   "id": "990586f1",
   "metadata": {},
   "outputs": [
    {
     "name": "stderr",
     "output_type": "stream",
     "text": [
      "C:\\Users\\PC\\anaconda3\\lib\\site-packages\\sklearn\\base.py:420: UserWarning: X does not have valid feature names, but KMeans was fitted with feature names\n",
      "  warnings.warn(\n"
     ]
    },
    {
     "data": {
      "image/png": "[encoded data removed]",
      "text/plain": [
       "<Figure size 800x550 with 1 Axes>"
      ]
     },
     "metadata": {},
     "output_type": "display_data"
    },
    {
     "data": {
      "text/plain": [
       "<Axes: title={'center': 'Silhouette Plot of KMeans Clustering for 334 Samples in 2 Centers'}, xlabel='silhouette coefficient values', ylabel='cluster label'>"
      ]
     },
     "execution_count": 19,
     "metadata": {},
     "output_type": "execute_result"
    }
   ],
   "source": [
    "# 시각화\n",
    "visualizer_s2 = SilhouetteVisualizer(Skmeans2, colors=\"yellowbrick\")\n",
    "visualizer_s2.fit(s_df)     \n",
    "visualizer_s2.show()"
   ]
  },
  {
   "cell_type": "code",
   "execution_count": 20,
   "id": "a626afe4",
   "metadata": {},
   "outputs": [
    {
     "data": {
      "text/html": [
       "<div>\n",
       "<style scoped>\n",
       "    .dataframe tbody tr th:only-of-type {\n",
       "        vertical-align: middle;\n",
       "    }\n",
       "\n",
       "    .dataframe tbody tr th {\n",
       "        vertical-align: top;\n",
       "    }\n",
       "\n",
       "    .dataframe thead th {\n",
       "        text-align: right;\n",
       "    }\n",
       "</style>\n",
       "<table border=\"1\" class=\"dataframe\">\n",
       "  <thead>\n",
       "    <tr style=\"text-align: right;\">\n",
       "      <th></th>\n",
       "      <th>Session_Connection_Time</th>\n",
       "      <th>Bytes Transferred</th>\n",
       "      <th>Kali_Trace_Used</th>\n",
       "      <th>Servers_Corrupted</th>\n",
       "      <th>Pages_Corrupted</th>\n",
       "      <th>WPM_Typing_Speed</th>\n",
       "      <th>cluster</th>\n",
       "      <th>silhouette coefficient</th>\n",
       "    </tr>\n",
       "  </thead>\n",
       "  <tbody>\n",
       "    <tr>\n",
       "      <th>0</th>\n",
       "      <td>-1.564572</td>\n",
       "      <td>-0.756034</td>\n",
       "      <td>0.976328</td>\n",
       "      <td>-1.000019</td>\n",
       "      <td>-1.254790</td>\n",
       "      <td>1.122219</td>\n",
       "      <td>1</td>\n",
       "      <td>0.648820</td>\n",
       "    </tr>\n",
       "    <tr>\n",
       "      <th>1</th>\n",
       "      <td>-0.711517</td>\n",
       "      <td>0.397838</td>\n",
       "      <td>-1.024246</td>\n",
       "      <td>-0.965213</td>\n",
       "      <td>-0.600968</td>\n",
       "      <td>0.876531</td>\n",
       "      <td>1</td>\n",
       "      <td>0.474564</td>\n",
       "    </tr>\n",
       "    <tr>\n",
       "      <th>2</th>\n",
       "      <td>0.070449</td>\n",
       "      <td>-0.877647</td>\n",
       "      <td>0.976328</td>\n",
       "      <td>-0.673714</td>\n",
       "      <td>-0.927879</td>\n",
       "      <td>0.988547</td>\n",
       "      <td>1</td>\n",
       "      <td>0.538724</td>\n",
       "    </tr>\n",
       "    <tr>\n",
       "      <th>3</th>\n",
       "      <td>-1.991099</td>\n",
       "      <td>-1.326184</td>\n",
       "      <td>0.976328</td>\n",
       "      <td>-1.208855</td>\n",
       "      <td>-0.927879</td>\n",
       "      <td>1.004976</td>\n",
       "      <td>1</td>\n",
       "      <td>0.614495</td>\n",
       "    </tr>\n",
       "    <tr>\n",
       "      <th>4</th>\n",
       "      <td>-0.711517</td>\n",
       "      <td>-0.695140</td>\n",
       "      <td>-1.024246</td>\n",
       "      <td>-0.734624</td>\n",
       "      <td>-0.927879</td>\n",
       "      <td>1.040821</td>\n",
       "      <td>1</td>\n",
       "      <td>0.628306</td>\n",
       "    </tr>\n",
       "  </tbody>\n",
       "</table>\n",
       "</div>"
      ],
      "text/plain": [
       "   Session_Connection_Time  Bytes Transferred  Kali_Trace_Used  \\\n",
       "0                -1.564572          -0.756034         0.976328   \n",
       "1                -0.711517           0.397838        -1.024246   \n",
       "2                 0.070449          -0.877647         0.976328   \n",
       "3                -1.991099          -1.326184         0.976328   \n",
       "4                -0.711517          -0.695140        -1.024246   \n",
       "\n",
       "   Servers_Corrupted  Pages_Corrupted  WPM_Typing_Speed  cluster  \\\n",
       "0          -1.000019        -1.254790          1.122219        1   \n",
       "1          -0.965213        -0.600968          0.876531        1   \n",
       "2          -0.673714        -0.927879          0.988547        1   \n",
       "3          -1.208855        -0.927879          1.004976        1   \n",
       "4          -0.734624        -0.927879          1.040821        1   \n",
       "\n",
       "   silhouette coefficient  \n",
       "0                0.648820  \n",
       "1                0.474564  \n",
       "2                0.538724  \n",
       "3                0.614495  \n",
       "4                0.628306  "
      ]
     },
     "execution_count": 20,
     "metadata": {},
     "output_type": "execute_result"
    }
   ],
   "source": [
    "# 군집/전체 실루엣 계수 평균값 계산\n",
    "r_s2 = s_df.copy()\n",
    "\n",
    "# 클러스터, 실루엣계수 컬럼 생성\n",
    "r_s2.loc[:,\"cluster\"] = visualizer_s2.predict(s_df)\n",
    "r_s2.loc[:,\"silhouette coefficient\"] = visualizer_s2.silhouette_samples_\n",
    "\n",
    "r_s2.shape\n",
    "r_s2.head()"
   ]
  },
  {
   "cell_type": "code",
   "execution_count": 24,
   "id": "cb72f43c",
   "metadata": {
    "scrolled": true
   },
   "outputs": [
    {
     "name": "stdout",
     "output_type": "stream",
     "text": [
      "StandardScalear / 군집2개 실루엣 계수 평균\n"
     ]
    },
    {
     "data": {
      "text/plain": [
       "0.6019979037700637"
      ]
     },
     "execution_count": 24,
     "metadata": {},
     "output_type": "execute_result"
    }
   ],
   "source": [
    "print('StandardScalear / 군집2개 실루엣 계수 평균')\n",
    "s2 = r_s2['silhouette coefficient'].mean()\n",
    "s2"
   ]
  },
  {
   "cell_type": "code",
   "execution_count": 25,
   "id": "08b4a271",
   "metadata": {},
   "outputs": [
    {
     "name": "stdout",
     "output_type": "stream",
     "text": [
      "\n",
      "군집별 실루엣 계수 평균\n"
     ]
    },
    {
     "data": {
      "text/html": [
       "<div>\n",
       "<style scoped>\n",
       "    .dataframe tbody tr th:only-of-type {\n",
       "        vertical-align: middle;\n",
       "    }\n",
       "\n",
       "    .dataframe tbody tr th {\n",
       "        vertical-align: top;\n",
       "    }\n",
       "\n",
       "    .dataframe thead th {\n",
       "        text-align: right;\n",
       "    }\n",
       "</style>\n",
       "<table border=\"1\" class=\"dataframe\">\n",
       "  <thead>\n",
       "    <tr style=\"text-align: right;\">\n",
       "      <th></th>\n",
       "      <th>cluster</th>\n",
       "      <th>silhouette coefficient</th>\n",
       "    </tr>\n",
       "  </thead>\n",
       "  <tbody>\n",
       "    <tr>\n",
       "      <th>0</th>\n",
       "      <td>0</td>\n",
       "      <td>0.607359</td>\n",
       "    </tr>\n",
       "    <tr>\n",
       "      <th>1</th>\n",
       "      <td>1</td>\n",
       "      <td>0.596637</td>\n",
       "    </tr>\n",
       "  </tbody>\n",
       "</table>\n",
       "</div>"
      ],
      "text/plain": [
       "   cluster  silhouette coefficient\n",
       "0        0                0.607359\n",
       "1        1                0.596637"
      ]
     },
     "execution_count": 25,
     "metadata": {},
     "output_type": "execute_result"
    }
   ],
   "source": [
    "print('\\n군집별 실루엣 계수 평균')\n",
    "r_s2.groupby('cluster')['silhouette coefficient'].mean().reset_index()"
   ]
  },
  {
   "cell_type": "markdown",
   "id": "6a131958",
   "metadata": {},
   "source": [
    "### 2. 군집 3개"
   ]
  },
  {
   "cell_type": "code",
   "execution_count": 32,
   "id": "ee63ca85",
   "metadata": {},
   "outputs": [
    {
     "name": "stderr",
     "output_type": "stream",
     "text": [
      "C:\\Users\\PC\\anaconda3\\lib\\site-packages\\sklearn\\cluster\\_kmeans.py:870: FutureWarning: The default value of `n_init` will change from 10 to 'auto' in 1.4. Set the value of `n_init` explicitly to suppress the warning\n",
      "  warnings.warn(\n",
      "C:\\Users\\PC\\anaconda3\\lib\\site-packages\\sklearn\\cluster\\_kmeans.py:1382: UserWarning: KMeans is known to have a memory leak on Windows with MKL, when there are less chunks than available threads. You can avoid it by setting the environment variable OMP_NUM_THREADS=2.\n",
      "  warnings.warn(\n"
     ]
    },
    {
     "data": {
      "text/html": [
       "<style>#sk-container-id-3 {color: black;background-color: white;}#sk-container-id-3 pre{padding: 0;}#sk-container-id-3 div.sk-toggleable {background-color: white;}#sk-container-id-3 label.sk-toggleable__label {cursor: pointer;display: block;width: 100%;margin-bottom: 0;padding: 0.3em;box-sizing: border-box;text-align: center;}#sk-container-id-3 label.sk-toggleable__label-arrow:before {content: \"▸\";float: left;margin-right: 0.25em;color: #696969;}#sk-container-id-3 label.sk-toggleable__label-arrow:hover:before {color: black;}#sk-container-id-3 div.sk-estimator:hover label.sk-toggleable__label-arrow:before {color: black;}#sk-container-id-3 div.sk-toggleable__content {max-height: 0;max-width: 0;overflow: hidden;text-align: left;background-color: #f0f8ff;}#sk-container-id-3 div.sk-toggleable__content pre {margin: 0.2em;color: black;border-radius: 0.25em;background-color: #f0f8ff;}#sk-container-id-3 input.sk-toggleable__control:checked~div.sk-toggleable__content {max-height: 200px;max-width: 100%;overflow: auto;}#sk-container-id-3 input.sk-toggleable__control:checked~label.sk-toggleable__label-arrow:before {content: \"▾\";}#sk-container-id-3 div.sk-estimator input.sk-toggleable__control:checked~label.sk-toggleable__label {background-color: #d4ebff;}#sk-container-id-3 div.sk-label input.sk-toggleable__control:checked~label.sk-toggleable__label {background-color: #d4ebff;}#sk-container-id-3 input.sk-hidden--visually {border: 0;clip: rect(1px 1px 1px 1px);clip: rect(1px, 1px, 1px, 1px);height: 1px;margin: -1px;overflow: hidden;padding: 0;position: absolute;width: 1px;}#sk-container-id-3 div.sk-estimator {font-family: monospace;background-color: #f0f8ff;border: 1px dotted black;border-radius: 0.25em;box-sizing: border-box;margin-bottom: 0.5em;}#sk-container-id-3 div.sk-estimator:hover {background-color: #d4ebff;}#sk-container-id-3 div.sk-parallel-item::after {content: \"\";width: 100%;border-bottom: 1px solid gray;flex-grow: 1;}#sk-container-id-3 div.sk-label:hover label.sk-toggleable__label {background-color: #d4ebff;}#sk-container-id-3 div.sk-serial::before {content: \"\";position: absolute;border-left: 1px solid gray;box-sizing: border-box;top: 0;bottom: 0;left: 50%;z-index: 0;}#sk-container-id-3 div.sk-serial {display: flex;flex-direction: column;align-items: center;background-color: white;padding-right: 0.2em;padding-left: 0.2em;position: relative;}#sk-container-id-3 div.sk-item {position: relative;z-index: 1;}#sk-container-id-3 div.sk-parallel {display: flex;align-items: stretch;justify-content: center;background-color: white;position: relative;}#sk-container-id-3 div.sk-item::before, #sk-container-id-3 div.sk-parallel-item::before {content: \"\";position: absolute;border-left: 1px solid gray;box-sizing: border-box;top: 0;bottom: 0;left: 50%;z-index: -1;}#sk-container-id-3 div.sk-parallel-item {display: flex;flex-direction: column;z-index: 1;position: relative;background-color: white;}#sk-container-id-3 div.sk-parallel-item:first-child::after {align-self: flex-end;width: 50%;}#sk-container-id-3 div.sk-parallel-item:last-child::after {align-self: flex-start;width: 50%;}#sk-container-id-3 div.sk-parallel-item:only-child::after {width: 0;}#sk-container-id-3 div.sk-dashed-wrapped {border: 1px dashed gray;margin: 0 0.4em 0.5em 0.4em;box-sizing: border-box;padding-bottom: 0.4em;background-color: white;}#sk-container-id-3 div.sk-label label {font-family: monospace;font-weight: bold;display: inline-block;line-height: 1.2em;}#sk-container-id-3 div.sk-label-container {text-align: center;}#sk-container-id-3 div.sk-container {/* jupyter's `normalize.less` sets `[hidden] { display: none; }` but bootstrap.min.css set `[hidden] { display: none !important; }` so we also need the `!important` here to be able to override the default hidden behavior on the sphinx rendered scikit-learn.org. See: https://github.com/scikit-learn/scikit-learn/issues/21755 */display: inline-block !important;position: relative;}#sk-container-id-3 div.sk-text-repr-fallback {display: none;}</style><div id=\"sk-container-id-3\" class=\"sk-top-container\"><div class=\"sk-text-repr-fallback\"><pre>KMeans(n_clusters=3, random_state=0)</pre><b>In a Jupyter environment, please rerun this cell to show the HTML representation or trust the notebook. <br />On GitHub, the HTML representation is unable to render, please try loading this page with nbviewer.org.</b></div><div class=\"sk-container\" hidden><div class=\"sk-item\"><div class=\"sk-estimator sk-toggleable\"><input class=\"sk-toggleable__control sk-hidden--visually\" id=\"sk-estimator-id-3\" type=\"checkbox\" checked><label for=\"sk-estimator-id-3\" class=\"sk-toggleable__label sk-toggleable__label-arrow\">KMeans</label><div class=\"sk-toggleable__content\"><pre>KMeans(n_clusters=3, random_state=0)</pre></div></div></div></div></div>"
      ],
      "text/plain": [
       "KMeans(n_clusters=3, random_state=0)"
      ]
     },
     "execution_count": 32,
     "metadata": {},
     "output_type": "execute_result"
    }
   ],
   "source": [
    "# KMeans\n",
    "Skmeans3 = KMeans(n_clusters = 3 , init = \"k-means++\", max_iter=300, random_state=0)\n",
    "Skmeans3.fit(s_df)"
   ]
  },
  {
   "cell_type": "code",
   "execution_count": 33,
   "id": "16b836d1",
   "metadata": {},
   "outputs": [
    {
     "name": "stderr",
     "output_type": "stream",
     "text": [
      "C:\\Users\\PC\\anaconda3\\lib\\site-packages\\sklearn\\base.py:420: UserWarning: X does not have valid feature names, but KMeans was fitted with feature names\n",
      "  warnings.warn(\n"
     ]
    },
    {
     "data": {
      "image/png": "[encoded data removed]",
      "text/plain": [
       "<Figure size 800x550 with 1 Axes>"
      ]
     },
     "metadata": {},
     "output_type": "display_data"
    },
    {
     "data": {
      "text/plain": [
       "<Axes: title={'center': 'Silhouette Plot of KMeans Clustering for 334 Samples in 3 Centers'}, xlabel='silhouette coefficient values', ylabel='cluster label'>"
      ]
     },
     "execution_count": 33,
     "metadata": {},
     "output_type": "execute_result"
    }
   ],
   "source": [
    "# 시각화\n",
    "visualizer_s3 = SilhouetteVisualizer(Skmeans3, colors=\"yellowbrick\")\n",
    "visualizer_s3.fit(s_df)     \n",
    "visualizer_s3.show()"
   ]
  },
  {
   "cell_type": "code",
   "execution_count": 36,
   "id": "5f5c85fa",
   "metadata": {
    "scrolled": true
   },
   "outputs": [
    {
     "data": {
      "text/html": [
       "<div>\n",
       "<style scoped>\n",
       "    .dataframe tbody tr th:only-of-type {\n",
       "        vertical-align: middle;\n",
       "    }\n",
       "\n",
       "    .dataframe tbody tr th {\n",
       "        vertical-align: top;\n",
       "    }\n",
       "\n",
       "    .dataframe thead th {\n",
       "        text-align: right;\n",
       "    }\n",
       "</style>\n",
       "<table border=\"1\" class=\"dataframe\">\n",
       "  <thead>\n",
       "    <tr style=\"text-align: right;\">\n",
       "      <th></th>\n",
       "      <th>Session_Connection_Time</th>\n",
       "      <th>Bytes Transferred</th>\n",
       "      <th>Kali_Trace_Used</th>\n",
       "      <th>Servers_Corrupted</th>\n",
       "      <th>Pages_Corrupted</th>\n",
       "      <th>WPM_Typing_Speed</th>\n",
       "      <th>cluster</th>\n",
       "      <th>silhouette coefficient</th>\n",
       "    </tr>\n",
       "  </thead>\n",
       "  <tbody>\n",
       "    <tr>\n",
       "      <th>0</th>\n",
       "      <td>-1.564572</td>\n",
       "      <td>-0.756034</td>\n",
       "      <td>0.976328</td>\n",
       "      <td>-1.000019</td>\n",
       "      <td>-1.254790</td>\n",
       "      <td>1.122219</td>\n",
       "      <td>2</td>\n",
       "      <td>0.545095</td>\n",
       "    </tr>\n",
       "    <tr>\n",
       "      <th>1</th>\n",
       "      <td>-0.711517</td>\n",
       "      <td>0.397838</td>\n",
       "      <td>-1.024246</td>\n",
       "      <td>-0.965213</td>\n",
       "      <td>-0.600968</td>\n",
       "      <td>0.876531</td>\n",
       "      <td>1</td>\n",
       "      <td>0.370238</td>\n",
       "    </tr>\n",
       "    <tr>\n",
       "      <th>2</th>\n",
       "      <td>0.070449</td>\n",
       "      <td>-0.877647</td>\n",
       "      <td>0.976328</td>\n",
       "      <td>-0.673714</td>\n",
       "      <td>-0.927879</td>\n",
       "      <td>0.988547</td>\n",
       "      <td>2</td>\n",
       "      <td>0.462236</td>\n",
       "    </tr>\n",
       "    <tr>\n",
       "      <th>3</th>\n",
       "      <td>-1.991099</td>\n",
       "      <td>-1.326184</td>\n",
       "      <td>0.976328</td>\n",
       "      <td>-1.208855</td>\n",
       "      <td>-0.927879</td>\n",
       "      <td>1.004976</td>\n",
       "      <td>2</td>\n",
       "      <td>0.421767</td>\n",
       "    </tr>\n",
       "    <tr>\n",
       "      <th>4</th>\n",
       "      <td>-0.711517</td>\n",
       "      <td>-0.695140</td>\n",
       "      <td>-1.024246</td>\n",
       "      <td>-0.734624</td>\n",
       "      <td>-0.927879</td>\n",
       "      <td>1.040821</td>\n",
       "      <td>1</td>\n",
       "      <td>0.566280</td>\n",
       "    </tr>\n",
       "  </tbody>\n",
       "</table>\n",
       "</div>"
      ],
      "text/plain": [
       "   Session_Connection_Time  Bytes Transferred  Kali_Trace_Used  \\\n",
       "0                -1.564572          -0.756034         0.976328   \n",
       "1                -0.711517           0.397838        -1.024246   \n",
       "2                 0.070449          -0.877647         0.976328   \n",
       "3                -1.991099          -1.326184         0.976328   \n",
       "4                -0.711517          -0.695140        -1.024246   \n",
       "\n",
       "   Servers_Corrupted  Pages_Corrupted  WPM_Typing_Speed  cluster  \\\n",
       "0          -1.000019        -1.254790          1.122219        2   \n",
       "1          -0.965213        -0.600968          0.876531        1   \n",
       "2          -0.673714        -0.927879          0.988547        2   \n",
       "3          -1.208855        -0.927879          1.004976        2   \n",
       "4          -0.734624        -0.927879          1.040821        1   \n",
       "\n",
       "   silhouette coefficient  \n",
       "0                0.545095  \n",
       "1                0.370238  \n",
       "2                0.462236  \n",
       "3                0.421767  \n",
       "4                0.566280  "
      ]
     },
     "execution_count": 36,
     "metadata": {},
     "output_type": "execute_result"
    }
   ],
   "source": [
    "# 군집/전체 실루엣 계수 평균값 계산\n",
    "r_s3 = s_df.copy()\n",
    "\n",
    "# 클러스터, 실루엣계수 컬럼 생성\n",
    "r_s3.loc[:,\"cluster\"] = visualizer_s3.predict(s_df)\n",
    "r_s3.loc[:,\"silhouette coefficient\"] = visualizer_s3.silhouette_samples_\n",
    "\n",
    "r_s3.head()"
   ]
  },
  {
   "cell_type": "code",
   "execution_count": 38,
   "id": "91be5dbf",
   "metadata": {},
   "outputs": [
    {
     "name": "stdout",
     "output_type": "stream",
     "text": [
      "StandardScalear / 군집3개 실루엣 계수 평균\n"
     ]
    },
    {
     "data": {
      "text/plain": [
       "0.5390036876535975"
      ]
     },
     "execution_count": 38,
     "metadata": {},
     "output_type": "execute_result"
    }
   ],
   "source": [
    "print('StandardScalear / 군집3개 실루엣 계수 평균')\n",
    "s3 = r_s3['silhouette coefficient'].mean()\n",
    "s3"
   ]
  },
  {
   "cell_type": "code",
   "execution_count": 39,
   "id": "6a969f76",
   "metadata": {},
   "outputs": [
    {
     "name": "stdout",
     "output_type": "stream",
     "text": [
      "\n",
      "군집별 실루엣 계수 평균\n"
     ]
    },
    {
     "data": {
      "text/html": [
       "<div>\n",
       "<style scoped>\n",
       "    .dataframe tbody tr th:only-of-type {\n",
       "        vertical-align: middle;\n",
       "    }\n",
       "\n",
       "    .dataframe tbody tr th {\n",
       "        vertical-align: top;\n",
       "    }\n",
       "\n",
       "    .dataframe thead th {\n",
       "        text-align: right;\n",
       "    }\n",
       "</style>\n",
       "<table border=\"1\" class=\"dataframe\">\n",
       "  <thead>\n",
       "    <tr style=\"text-align: right;\">\n",
       "      <th></th>\n",
       "      <th>cluster</th>\n",
       "      <th>silhouette coefficient</th>\n",
       "    </tr>\n",
       "  </thead>\n",
       "  <tbody>\n",
       "    <tr>\n",
       "      <th>0</th>\n",
       "      <td>0</td>\n",
       "      <td>0.585911</td>\n",
       "    </tr>\n",
       "    <tr>\n",
       "      <th>1</th>\n",
       "      <td>1</td>\n",
       "      <td>0.466611</td>\n",
       "    </tr>\n",
       "    <tr>\n",
       "      <th>2</th>\n",
       "      <td>2</td>\n",
       "      <td>0.517889</td>\n",
       "    </tr>\n",
       "  </tbody>\n",
       "</table>\n",
       "</div>"
      ],
      "text/plain": [
       "   cluster  silhouette coefficient\n",
       "0        0                0.585911\n",
       "1        1                0.466611\n",
       "2        2                0.517889"
      ]
     },
     "execution_count": 39,
     "metadata": {},
     "output_type": "execute_result"
    }
   ],
   "source": [
    "print('\\n군집별 실루엣 계수 평균')\n",
    "r_s3.groupby('cluster')['silhouette coefficient'].mean().reset_index()"
   ]
  },
  {
   "cell_type": "code",
   "execution_count": 48,
   "id": "3b4fda9a",
   "metadata": {},
   "outputs": [
    {
     "data": {
      "text/html": [
       "<div>\n",
       "<style scoped>\n",
       "    .dataframe tbody tr th:only-of-type {\n",
       "        vertical-align: middle;\n",
       "    }\n",
       "\n",
       "    .dataframe tbody tr th {\n",
       "        vertical-align: top;\n",
       "    }\n",
       "\n",
       "    .dataframe thead th {\n",
       "        text-align: right;\n",
       "    }\n",
       "</style>\n",
       "<table border=\"1\" class=\"dataframe\">\n",
       "  <thead>\n",
       "    <tr style=\"text-align: right;\">\n",
       "      <th></th>\n",
       "      <th>silhouette coefficient mean</th>\n",
       "    </tr>\n",
       "  </thead>\n",
       "  <tbody>\n",
       "    <tr>\n",
       "      <th>cluster2</th>\n",
       "      <td>0.601998</td>\n",
       "    </tr>\n",
       "    <tr>\n",
       "      <th>cluster3</th>\n",
       "      <td>0.539004</td>\n",
       "    </tr>\n",
       "  </tbody>\n",
       "</table>\n",
       "</div>"
      ],
      "text/plain": [
       "          silhouette coefficient mean\n",
       "cluster2                     0.601998\n",
       "cluster3                     0.539004"
      ]
     },
     "execution_count": 48,
     "metadata": {},
     "output_type": "execute_result"
    }
   ],
   "source": [
    "t = pd.DataFrame({\"silhouette coefficient mean\" : [s2,s3]},index=[\"cluster2\", \"cluster3\"])\n",
    "t"
   ]
  },
  {
   "cell_type": "markdown",
   "id": "33db8aa2",
   "metadata": {},
   "source": [
    "# 결과분석\n",
    "    - 군집이 2개일 때의 평균이 1에 더 가까움\n",
    "    - 군집이 2개일 때 KMeans 클러스터링이 더 잘 수행되었다고 판단됨\n",
    "    - 해커는 2명으로 판단됨"
   ]
  },
  {
   "cell_type": "code",
   "execution_count": null,
   "id": "49b2d7b7",
   "metadata": {},
   "outputs": [],
   "source": []
  }
 ],
 "metadata": {
  "kernelspec": {
   "display_name": "Python 3 (ipykernel)",
   "language": "python",
   "name": "python3"
  },
  "language_info": {
   "codemirror_mode": {
    "name": "ipython",
    "version": 3
   },
   "file_extension": ".py",
   "mimetype": "text/x-python",
   "name": "python",
   "nbconvert_exporter": "python",
   "pygments_lexer": "ipython3",
   "version": "3.10.9"
  }
 },
 "nbformat": 4,
 "nbformat_minor": 5
}
